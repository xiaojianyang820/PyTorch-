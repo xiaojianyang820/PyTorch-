{
 "cells": [
  {
   "cell_type": "markdown",
   "metadata": {},
   "source": [
    "# PyTorch深度学习：60分钟快速入门"
   ]
  },
  {
   "cell_type": "markdown",
   "metadata": {},
   "source": [
    "## PyTorch简介\n",
    "\n",
    "PyTorch是基于Python的科学计算工具包，它的主要用户是两类：\n",
    "* Numpy包的替代者，以充分利用GPU的计算能力\n",
    "* 灵活快速的深度学习研究平台\n",
    "\n",
    "## 起步\n",
    "\n",
    "### 张量（Tensor）\n",
    "\n",
    "张量类似于Numpy中的多维数组，只不过张量可以被放置于GPU之上来加速运算。\n",
    "\n",
    "首先来构建一个5$\\times$3的矩阵："
   ]
  },
  {
   "cell_type": "code",
   "execution_count": 1,
   "metadata": {},
   "outputs": [
    {
     "name": "stdout",
     "output_type": "stream",
     "text": [
      "tensor([[-5.1467e+04,  4.5619e-41, -5.1467e+04],\n",
      "        [ 4.5619e-41,  1.3563e-19,  1.6114e-19],\n",
      "        [ 1.6020e-19,  4.4721e+21,  2.7922e+20],\n",
      "        [ 1.3233e-14,  9.3233e-09,  1.3556e-19],\n",
      "        [ 1.8567e-01,  5.1188e-11,  1.7865e+25]])\n"
     ]
    }
   ],
   "source": [
    "import torch\n",
    "x = torch.empty(5,3)\n",
    "print(x)"
   ]
  },
  {
   "cell_type": "markdown",
   "metadata": {},
   "source": [
    "或者是随机初始值的矩阵"
   ]
  },
  {
   "cell_type": "code",
   "execution_count": 2,
   "metadata": {},
   "outputs": [
    {
     "name": "stdout",
     "output_type": "stream",
     "text": [
      "tensor([[0.5529, 0.7310, 0.7782],\n",
      "        [0.2677, 0.3768, 0.9290],\n",
      "        [0.3853, 0.9013, 0.4142],\n",
      "        [0.4760, 0.9204, 0.6978],\n",
      "        [0.6413, 0.8974, 0.1804]])\n"
     ]
    }
   ],
   "source": [
    "x = torch.rand(5,3)\n",
    "print(x)"
   ]
  },
  {
   "cell_type": "markdown",
   "metadata": {},
   "source": [
    "构建一个类型为长整型的0张量"
   ]
  },
  {
   "cell_type": "code",
   "execution_count": 3,
   "metadata": {},
   "outputs": [
    {
     "data": {
      "text/plain": [
       "tensor([[0, 0, 0],\n",
       "        [0, 0, 0],\n",
       "        [0, 0, 0],\n",
       "        [0, 0, 0],\n",
       "        [0, 0, 0]])"
      ]
     },
     "execution_count": 3,
     "metadata": {},
     "output_type": "execute_result"
    }
   ],
   "source": [
    "x = torch.zeros(5,3,dtype=torch.long)\n",
    "x"
   ]
  },
  {
   "cell_type": "markdown",
   "metadata": {},
   "source": [
    "也可以直接从列表中构建tensor"
   ]
  },
  {
   "cell_type": "code",
   "execution_count": 4,
   "metadata": {},
   "outputs": [
    {
     "data": {
      "text/plain": [
       "tensor([5.5000, 3.0000])"
      ]
     },
     "execution_count": 4,
     "metadata": {},
     "output_type": "execute_result"
    }
   ],
   "source": [
    "x = torch.tensor([5.5,3])\n",
    "x"
   ]
  },
  {
   "cell_type": "markdown",
   "metadata": {},
   "source": [
    "或者是基于一个已有的tensor来创建tengsor，这一方法可以重用已有Tensor的很多属性，除了其中的值会重置。"
   ]
  },
  {
   "cell_type": "code",
   "execution_count": 5,
   "metadata": {},
   "outputs": [
    {
     "name": "stdout",
     "output_type": "stream",
     "text": [
      "tensor([[1., 1., 1.],\n",
      "        [1., 1., 1.],\n",
      "        [1., 1., 1.],\n",
      "        [1., 1., 1.],\n",
      "        [1., 1., 1.]], dtype=torch.float64)\n",
      "tensor([[-1.8550, -0.2077,  1.2506],\n",
      "        [ 1.2306,  0.0125, -0.7148],\n",
      "        [ 0.1334, -1.5001,  0.2694],\n",
      "        [-1.0542,  1.6538, -0.4461],\n",
      "        [-0.8446, -1.8406,  0.4108]])\n"
     ]
    }
   ],
   "source": [
    "x = x.new_ones(5,3,dtype=torch.double)\n",
    "print(x)\n",
    "x = torch.randn_like(x,dtype=torch.float)\n",
    "print(x)"
   ]
  },
  {
   "cell_type": "markdown",
   "metadata": {},
   "source": [
    "而要获取一个Tensor的形状，就可以如下："
   ]
  },
  {
   "cell_type": "code",
   "execution_count": 6,
   "metadata": {},
   "outputs": [
    {
     "name": "stdout",
     "output_type": "stream",
     "text": [
      "torch.Size([5, 3])\n"
     ]
    }
   ],
   "source": [
    "print(x.size())"
   ]
  },
  {
   "cell_type": "markdown",
   "metadata": {},
   "source": [
    "### 运算\n",
    "\n",
    "同一种运算往往有几种不同的语法，在下面的几个例子里，我们会看到几种不同的加法语法\n",
    "\n",
    "语法1："
   ]
  },
  {
   "cell_type": "code",
   "execution_count": 7,
   "metadata": {},
   "outputs": [
    {
     "name": "stdout",
     "output_type": "stream",
     "text": [
      "tensor([[-1.6288, -0.1033,  2.0006],\n",
      "        [ 1.6871,  0.9012,  0.1392],\n",
      "        [ 0.3607, -1.0997,  0.8233],\n",
      "        [-0.5372,  2.6339, -0.4054],\n",
      "        [-0.2512, -1.0381,  1.3244]])\n"
     ]
    }
   ],
   "source": [
    "y = torch.rand(5,3)\n",
    "print(x + y)"
   ]
  },
  {
   "cell_type": "markdown",
   "metadata": {},
   "source": [
    "语法2："
   ]
  },
  {
   "cell_type": "code",
   "execution_count": 8,
   "metadata": {},
   "outputs": [
    {
     "name": "stdout",
     "output_type": "stream",
     "text": [
      "tensor([[-1.6288, -0.1033,  2.0006],\n",
      "        [ 1.6871,  0.9012,  0.1392],\n",
      "        [ 0.3607, -1.0997,  0.8233],\n",
      "        [-0.5372,  2.6339, -0.4054],\n",
      "        [-0.2512, -1.0381,  1.3244]])\n"
     ]
    }
   ],
   "source": [
    "print(torch.add(x,y))"
   ]
  },
  {
   "cell_type": "markdown",
   "metadata": {},
   "source": [
    "语法3：（将输出变量作为参数提供给加法运算）"
   ]
  },
  {
   "cell_type": "code",
   "execution_count": 9,
   "metadata": {},
   "outputs": [
    {
     "name": "stdout",
     "output_type": "stream",
     "text": [
      "tensor([[-1.6288, -0.1033,  2.0006],\n",
      "        [ 1.6871,  0.9012,  0.1392],\n",
      "        [ 0.3607, -1.0997,  0.8233],\n",
      "        [-0.5372,  2.6339, -0.4054],\n",
      "        [-0.2512, -1.0381,  1.3244]])\n"
     ]
    }
   ],
   "source": [
    "result = torch.empty(5,3)\n",
    "torch.add(x,y,out=result)\n",
    "print(result)"
   ]
  },
  {
   "cell_type": "markdown",
   "metadata": {},
   "source": [
    "语法4：（原地操作）"
   ]
  },
  {
   "cell_type": "code",
   "execution_count": 10,
   "metadata": {},
   "outputs": [
    {
     "name": "stdout",
     "output_type": "stream",
     "text": [
      "tensor([[-1.6288, -0.1033,  2.0006],\n",
      "        [ 1.6871,  0.9012,  0.1392],\n",
      "        [ 0.3607, -1.0997,  0.8233],\n",
      "        [-0.5372,  2.6339, -0.4054],\n",
      "        [-0.2512, -1.0381,  1.3244]])\n"
     ]
    }
   ],
   "source": [
    "y.add_(x)\n",
    "print(y)"
   ]
  },
  {
   "cell_type": "markdown",
   "metadata": {},
   "source": [
    "> 所有的原地变换操作都有一个后缀`_`，比如`x.copy_(y)`,`x.t_()`都会对`x`进行原地变换"
   ]
  },
  {
   "cell_type": "markdown",
   "metadata": {},
   "source": [
    "Tensor的索引操作和Numpy的索引操作完全相同"
   ]
  },
  {
   "cell_type": "code",
   "execution_count": 11,
   "metadata": {},
   "outputs": [
    {
     "name": "stdout",
     "output_type": "stream",
     "text": [
      "tensor([-0.2077,  0.0125, -1.5001,  1.6538, -1.8406])\n"
     ]
    }
   ],
   "source": [
    "print(x[:,1])"
   ]
  },
  {
   "cell_type": "markdown",
   "metadata": {},
   "source": [
    "Tensor的变形操作通过view方法来实现"
   ]
  },
  {
   "cell_type": "code",
   "execution_count": 12,
   "metadata": {},
   "outputs": [
    {
     "name": "stdout",
     "output_type": "stream",
     "text": [
      "torch.Size([4, 4]) torch.Size([16]) torch.Size([2, 8])\n"
     ]
    }
   ],
   "source": [
    "x = torch.randn(4,4)\n",
    "y = x.view(16)\n",
    "z = x.view(-1,8)\n",
    "print(x.size(),y.size(),z.size())"
   ]
  },
  {
   "cell_type": "markdown",
   "metadata": {},
   "source": [
    "如果Tensor中只有一个数字，那么可以通过item()方法来获取对应的普通数值："
   ]
  },
  {
   "cell_type": "code",
   "execution_count": 13,
   "metadata": {},
   "outputs": [
    {
     "name": "stdout",
     "output_type": "stream",
     "text": [
      "tensor([-0.3093])\n",
      "-0.3092759847640991\n"
     ]
    }
   ],
   "source": [
    "x = torch.randn(1)\n",
    "print(x)\n",
    "print(x.item())"
   ]
  },
  {
   "cell_type": "markdown",
   "metadata": {},
   "source": [
    "### 与Numpy的交互\n",
    "\n",
    "将Tensor转换成一个Numpy，或者反向操作都是比较简单的。"
   ]
  },
  {
   "cell_type": "code",
   "execution_count": 14,
   "metadata": {},
   "outputs": [
    {
     "name": "stdout",
     "output_type": "stream",
     "text": [
      "tensor([1., 1., 1., 1., 1.])\n",
      "[1. 1. 1. 1. 1.]\n"
     ]
    }
   ],
   "source": [
    "a = torch.ones(5)\n",
    "print(a)\n",
    "b = a.numpy()\n",
    "print(b)"
   ]
  },
  {
   "cell_type": "markdown",
   "metadata": {},
   "source": [
    "如果Tensor的值改变之后，那么对应的Numpy的值也发生了改变："
   ]
  },
  {
   "cell_type": "code",
   "execution_count": 15,
   "metadata": {},
   "outputs": [
    {
     "name": "stdout",
     "output_type": "stream",
     "text": [
      "tensor([2., 2., 2., 2., 2.])\n",
      "[2. 2. 2. 2. 2.]\n"
     ]
    }
   ],
   "source": [
    "a.add_(1)\n",
    "print(a)\n",
    "print(b)"
   ]
  },
  {
   "cell_type": "markdown",
   "metadata": {},
   "source": [
    "从Numpy转换为Tensor的操作如下："
   ]
  },
  {
   "cell_type": "code",
   "execution_count": 16,
   "metadata": {},
   "outputs": [
    {
     "name": "stdout",
     "output_type": "stream",
     "text": [
      "[2. 2. 2. 2. 2.]\n",
      "tensor([2., 2., 2., 2., 2.], dtype=torch.float64)\n"
     ]
    }
   ],
   "source": [
    "import numpy as np\n",
    "a = np.ones(5)\n",
    "b = torch.from_numpy(a)\n",
    "np.add(a,1,out=a)\n",
    "print(a)\n",
    "print(b)"
   ]
  },
  {
   "cell_type": "markdown",
   "metadata": {},
   "source": [
    "CPU上的Tensor和Numpy之间是可以相互转换的，除非是CharTensor\n",
    "\n",
    "### CUDA Tensor\n",
    "\n",
    "Tensor可以通过to方法转移到任何的设备上。"
   ]
  },
  {
   "cell_type": "code",
   "execution_count": 17,
   "metadata": {},
   "outputs": [
    {
     "name": "stdout",
     "output_type": "stream",
     "text": [
      "tensor([0.6907], device='cuda:0')\n",
      "tensor([0.6907], dtype=torch.float64)\n"
     ]
    }
   ],
   "source": [
    "if torch.cuda.is_available():\n",
    "    device = torch.device('cuda')\n",
    "    y = torch.ones_like(x,device=device)\n",
    "    x = x.to(device)\n",
    "    z = x + y\n",
    "    print(z)\n",
    "    print(z.to('cpu',torch.double))"
   ]
  },
  {
   "cell_type": "markdown",
   "metadata": {},
   "source": [
    "## 自动求导\n",
    "\n",
    "在PyTorch中的所有神经网络的中心是自动求导，集中在autograd模块中。第一步先来简单的看一下它，然后会训练第一个神经网络。\n",
    "\n",
    "autograd模块提供了在Tensor上所有操作的自动求导。它是一个Define-by-Run框架，这一术语的含义为反向传播的具体形式由实际运行过程来定义，所以在每一次迭代中计算过程可能都不一样。\n",
    "\n",
    "下面是几个简单的例子。\n",
    "\n",
    "### Tensor\n",
    "\n",
    "torch.Tensor是当前包的核心类。如果你将它的requires_grad属性设置为True，那么它就会追踪基于它的全部操作。当你结束了全部的计算之后，那么可以调用backward()方法，所有的梯度就会被自动执行。每一个tensor的梯度都被累加到它的grad属性当中。\n",
    "\n",
    "为了将一个Tensor从回溯队列中移除，你可以调用它的detach()方法来将该节点从计算图中移除。\n",
    "\n",
    "为了阻止回溯以及使用内存，你可以使用with torch.no_grad()环境来封装代码块，这一功能在对模型进行评估的时候比较有用，因为这一情况下有一些需要训练的参数，但是此刻是不需要计算梯度和改变参数的。\n",
    "\n",
    "还有一个对于自动求导实现很重要的类————Function。\n",
    "\n",
    "Tensor和Function结合在一起构成一个无环计算图，每一个tensor都有一个grad_fn属性来记录生成该Tensor的函数（除非这个Tensor是用户手动创建的，这种情况下grad_fn属性是None）。\n",
    "\n",
    "如果你需要计算导数，你可以调用Tensor的backward()方法。如果Tensor是一个标量，你就不需要为backward方法指定任何参数，但如果它有很多值，那么你需要指定grdient参数，该参数是一个形状相同的Tensor。"
   ]
  },
  {
   "cell_type": "code",
   "execution_count": 18,
   "metadata": {},
   "outputs": [
    {
     "name": "stdout",
     "output_type": "stream",
     "text": [
      "tensor([[1., 1.],\n",
      "        [1., 1.]], requires_grad=True)\n"
     ]
    }
   ],
   "source": [
    "import torch\n",
    "\n",
    "x = torch.ones(2,2,requires_grad=True)\n",
    "print(x)"
   ]
  },
  {
   "cell_type": "markdown",
   "metadata": {},
   "source": [
    "在这个Tensor上建立一次操作："
   ]
  },
  {
   "cell_type": "code",
   "execution_count": 19,
   "metadata": {},
   "outputs": [
    {
     "name": "stdout",
     "output_type": "stream",
     "text": [
      "tensor([[3., 3.],\n",
      "        [3., 3.]], grad_fn=<AddBackward0>)\n"
     ]
    }
   ],
   "source": [
    "y = x + 2\n",
    "print(y)"
   ]
  },
  {
   "cell_type": "markdown",
   "metadata": {},
   "source": [
    "y是由一个运算计算出来的，所以它有属性grad_fn。"
   ]
  },
  {
   "cell_type": "code",
   "execution_count": 20,
   "metadata": {},
   "outputs": [
    {
     "name": "stdout",
     "output_type": "stream",
     "text": [
      "<AddBackward0 object at 0x7f2b63de6748>\n"
     ]
    }
   ],
   "source": [
    "print(y.grad_fn)"
   ]
  },
  {
   "cell_type": "markdown",
   "metadata": {},
   "source": [
    "在其上叠加更多的计算："
   ]
  },
  {
   "cell_type": "code",
   "execution_count": 21,
   "metadata": {},
   "outputs": [
    {
     "name": "stdout",
     "output_type": "stream",
     "text": [
      "tensor([[27., 27.],\n",
      "        [27., 27.]], grad_fn=<MulBackward0>) tensor(27., grad_fn=<MeanBackward1>)\n"
     ]
    }
   ],
   "source": [
    "z = y * y * 3\n",
    "out = z.mean()\n",
    "print(z,out)"
   ]
  },
  {
   "cell_type": "markdown",
   "metadata": {},
   "source": [
    "`requires_grad_`方法可以原地改变一个Tensor的requires_grad属性，该属性如果没有指定的话，默认值就是False。"
   ]
  },
  {
   "cell_type": "code",
   "execution_count": 22,
   "metadata": {},
   "outputs": [
    {
     "name": "stdout",
     "output_type": "stream",
     "text": [
      "False\n",
      "True\n",
      "<SumBackward0 object at 0x7f2b63de6400>\n"
     ]
    }
   ],
   "source": [
    "a = torch.randn(2,2)\n",
    "a = ((a * 3)/(a-1))\n",
    "print(a.requires_grad)\n",
    "a.requires_grad_(True)\n",
    "print(a.requires_grad)\n",
    "b = (a*a).sum()\n",
    "print(b.grad_fn)"
   ]
  },
  {
   "cell_type": "markdown",
   "metadata": {},
   "source": [
    "## 梯度\n",
    "\n",
    "接下来讨论反向传播，out中只是一个标量，out.backward()等同于out.backward(torch.tensor(1))"
   ]
  },
  {
   "cell_type": "code",
   "execution_count": 23,
   "metadata": {
    "collapsed": true
   },
   "outputs": [],
   "source": [
    "out.backward()"
   ]
  },
  {
   "cell_type": "markdown",
   "metadata": {},
   "source": [
    "下面的结果是out对x求导的结果："
   ]
  },
  {
   "cell_type": "code",
   "execution_count": 24,
   "metadata": {},
   "outputs": [
    {
     "name": "stdout",
     "output_type": "stream",
     "text": [
      "tensor([[4.5000, 4.5000],\n",
      "        [4.5000, 4.5000]])\n"
     ]
    }
   ],
   "source": [
    "print(x.grad)"
   ]
  },
  {
   "cell_type": "markdown",
   "metadata": {},
   "source": [
    "你可以通过自动求导做很多神奇的事情，比如："
   ]
  },
  {
   "cell_type": "code",
   "execution_count": 25,
   "metadata": {},
   "outputs": [
    {
     "name": "stdout",
     "output_type": "stream",
     "text": [
      "tensor([-895.8793, -475.9088, -115.7635], grad_fn=<MulBackward0>)\n",
      "tensor([1.0240e+02, 1.0240e+03, 1.0240e-01])\n"
     ]
    }
   ],
   "source": [
    "x = torch.randn(3,requires_grad=True)\n",
    "y = x * 2\n",
    "while y.data.norm() < 1000:\n",
    "    y = y * 2\n",
    "print(y)\n",
    "\n",
    "gradients = torch.tensor([0.1,1.0,0.0001],dtype=torch.float)\n",
    "y.backward(gradients)\n",
    "print(x.grad)"
   ]
  },
  {
   "cell_type": "markdown",
   "metadata": {},
   "source": [
    "通过将代码块置于torch.no_grad()上下文管理器中就可以阻断对该变量进行自动求导："
   ]
  },
  {
   "cell_type": "code",
   "execution_count": 26,
   "metadata": {},
   "outputs": [
    {
     "name": "stdout",
     "output_type": "stream",
     "text": [
      "True\n",
      "True\n",
      "False\n"
     ]
    }
   ],
   "source": [
    "print(x.requires_grad)\n",
    "print((x**2).requires_grad)\n",
    "\n",
    "with torch.no_grad():\n",
    "    print((x ** 2).requires_grad)"
   ]
  },
  {
   "cell_type": "markdown",
   "metadata": {},
   "source": [
    "## 神经网络\n",
    "\n",
    "神经网络可以通过使用torch.nn模块进行构建。\n",
    "\n",
    "在之前的章节，大致讲解了autograd模块，nn模块依赖于autograd模块来定义模型并在其上定义微分。一个nn.Module类的对象包括层的概念，其中的forward方法调用之后就可以产生output。\n",
    "\n",
    "比如，下图所示的是对数字进行识别的神经网络：\n",
    "![字母识别神经网络架构](./jpgs/jupyter_1.png)\n",
    "\n",
    "上图是一个简单的前馈型网络，它读取输入，然后在各个层级之间进行传递计算，最终给出输出。\n",
    "\n",
    "一个神经网络的典型训练过程如下：\n",
    "1. 定义带有未知的可调整参数的神经网络\n",
    "2. 在输入数据集上进行迭代\n",
    "3. 输入数据点在整个网络上进行传递\n",
    "4. 计算损失函数\n",
    "5. 向整个网络后向传递梯度\n",
    "6. 根据更新法则调整各个权重参数，最简单的形式就是：weight:=weight - learning_rate * gradient\n",
    "\n",
    "### 定义一个神经网络"
   ]
  },
  {
   "cell_type": "code",
   "execution_count": 27,
   "metadata": {},
   "outputs": [
    {
     "name": "stdout",
     "output_type": "stream",
     "text": [
      "Net(\n",
      "  (conv1): Conv2d(1, 6, kernel_size=(5, 5), stride=(1, 1))\n",
      "  (conv2): Conv2d(6, 16, kernel_size=(5, 5), stride=(1, 1))\n",
      "  (fc1): Linear(in_features=400, out_features=120, bias=True)\n",
      "  (fc2): Linear(in_features=120, out_features=84, bias=True)\n",
      "  (fc3): Linear(in_features=84, out_features=10, bias=True)\n",
      ")\n"
     ]
    }
   ],
   "source": [
    "import torch\n",
    "import torch.nn as nn\n",
    "import torch.nn.functional as F\n",
    "\n",
    "class Net(nn.Module):\n",
    "    \n",
    "    def __init__(self):\n",
    "        super(Net,self).__init__()\n",
    "        self.conv1 = nn.Conv2d(1,6,5)\n",
    "        self.conv2 = nn.Conv2d(6,16,5)\n",
    "        self.fc1 = nn.Linear(16 * 5 * 5,120)\n",
    "        self.fc2 = nn.Linear(120,84)\n",
    "        self.fc3 = nn.Linear(84,10)\n",
    "        \n",
    "    def forward(self,x):\n",
    "        x = F.max_pool2d(F.relu(self.conv1(x)),(2,2))\n",
    "        x = F.max_pool2d(F.relu(self.conv2(x)),2)\n",
    "        x = x.view(-1,self.num_flat_features(x))\n",
    "        x = F.relu(self.fc1(x))\n",
    "        x = F.relu(self.fc2(x))\n",
    "        x = self.fc3(x)\n",
    "        return x\n",
    "    \n",
    "    def num_flat_features(self,x):\n",
    "        size = x.size()[1:]\n",
    "        num_features = 1\n",
    "        for s in size:\n",
    "            num_features *= s\n",
    "        return num_features\n",
    "    \n",
    "net = Net()\n",
    "print(net)"
   ]
  },
  {
   "cell_type": "markdown",
   "metadata": {},
   "source": [
    "这里你只需要定义前向函数，而相应的后向函数由自动求导机制自动导出，你可以在forward方法中使用任何的Tensor运算。\n",
    "\n",
    "模型中的可学习参数由net.parameters()返回"
   ]
  },
  {
   "cell_type": "code",
   "execution_count": 28,
   "metadata": {},
   "outputs": [
    {
     "name": "stdout",
     "output_type": "stream",
     "text": [
      "10\n",
      "torch.Size([6, 1, 5, 5])\n"
     ]
    }
   ],
   "source": [
    "params = list(net.parameters())\n",
    "print(len(params))\n",
    "print(params[0].size())"
   ]
  },
  {
   "cell_type": "markdown",
   "metadata": {},
   "source": [
    "接下来随机产生一个32$\\times$32的输入矩阵。由于LeNet的期望输入是23$\\times$32所以，在MNIST数据集上应用该模型的话，需要将图片的尺寸调整到该尺寸上。"
   ]
  },
  {
   "cell_type": "code",
   "execution_count": 29,
   "metadata": {},
   "outputs": [
    {
     "name": "stdout",
     "output_type": "stream",
     "text": [
      "tensor([[ 0.0042, -0.1137, -0.0714, -0.0958,  0.1526,  0.1348,  0.1516, -0.0323,\n",
      "          0.0298,  0.0605]], grad_fn=<AddmmBackward>)\n"
     ]
    }
   ],
   "source": [
    "inputMatrix = torch.randn(1,1,32,32)\n",
    "out = net(inputMatrix)\n",
    "print(out)"
   ]
  },
  {
   "cell_type": "markdown",
   "metadata": {},
   "source": [
    "接下来需要清空所有参数的梯度缓存，并将这个out值附加上随机的误差权重反向传播："
   ]
  },
  {
   "cell_type": "code",
   "execution_count": 30,
   "metadata": {
    "collapsed": true
   },
   "outputs": [],
   "source": [
    "net.zero_grad()\n",
    "out.backward(torch.randn(1,10))"
   ]
  },
  {
   "cell_type": "markdown",
   "metadata": {},
   "source": [
    "### 损失函数\n",
    "\n",
    "一个损失函数需要读取到每一个input数据点的（output,target）点对，然后计算出一个可以对输出值和实际值的差距进行估计的值。\n",
    "\n",
    "nn模块中有很多不同类型的损失函数，一个比较简单的损失函数是nn.MSELoss，就是计算output和target之间的均方误差。\n",
    "\n",
    "比如："
   ]
  },
  {
   "cell_type": "code",
   "execution_count": 31,
   "metadata": {},
   "outputs": [
    {
     "name": "stdout",
     "output_type": "stream",
     "text": [
      "tensor(1.4712, grad_fn=<MseLossBackward>)\n"
     ]
    }
   ],
   "source": [
    "output = net(inputMatrix)\n",
    "target = torch.randn(10)\n",
    "target = target.view(1,-1)\n",
    "criterion = nn.MSELoss()\n",
    "loss = criterion(output,target)\n",
    "print(loss)"
   ]
  },
  {
   "cell_type": "markdown",
   "metadata": {},
   "source": [
    "然后调用loss.backward()，整个计算图就会自动求导，计算图中所有requiers_grad属性为True的Tensor的grad属性中就会被累加当前的梯度。\n",
    "\n",
    "### 反向传播\n",
    "\n",
    "为了向整个计算图传播误差梯度，就需要调用loss.backward()方法，不过需要提前将已经积累的梯度进行清空。接下来我们调用loss.backward()方法，然后检查第一个卷积层偏置向量的梯度在反向传播之前和之后的不同"
   ]
  },
  {
   "cell_type": "code",
   "execution_count": 32,
   "metadata": {},
   "outputs": [
    {
     "name": "stdout",
     "output_type": "stream",
     "text": [
      "Conv1.bias.grad before backward: tensor([0., 0., 0., 0., 0., 0.])\n",
      "Conv1.bias.grad after backward: tensor([-0.0029, -0.0069,  0.0270,  0.0114, -0.0055,  0.0208])\n"
     ]
    }
   ],
   "source": [
    "net.zero_grad()\n",
    "\n",
    "print('Conv1.bias.grad before backward:',end=' ')\n",
    "print(net.conv1.bias.grad)\n",
    "\n",
    "loss.backward()\n",
    "\n",
    "print('Conv1.bias.grad after backward:',end=' ')\n",
    "print(net.conv1.bias.grad)"
   ]
  },
  {
   "cell_type": "markdown",
   "metadata": {},
   "source": [
    "以上我们就了解了如何使用损失函数。\n",
    "\n",
    "### 更新网络参数\n",
    "\n",
    "实际使用中最简单的参数更新法则就是随机梯度下降（SGD）：\n",
    "$$\n",
    "    w = w - lr * gradient\n",
    "$$\n",
    "上述法则可以通过以下代码来实现："
   ]
  },
  {
   "cell_type": "code",
   "execution_count": 33,
   "metadata": {
    "collapsed": true
   },
   "outputs": [],
   "source": [
    "learning_rate = 0.01\n",
    "for f in net.parameters():\n",
    "    f.data.sub_(f.grad.data * learning_rate)"
   ]
  },
  {
   "cell_type": "markdown",
   "metadata": {},
   "source": [
    "当然为了简化使用不同的梯度更新方法，比如SGD，Nesterov-SGD，Adam，RMSProp等等，构建了一个小的模块torch.optim。使用它也非常的简单："
   ]
  },
  {
   "cell_type": "code",
   "execution_count": 34,
   "metadata": {
    "collapsed": true
   },
   "outputs": [],
   "source": [
    "import torch.optim as optim\n",
    "\n",
    "optimizer = optim.SGD(net.parameters(),lr=0.01)\n",
    "optimizer.zero_grad()\n",
    "output = net(inputMatrix)\n",
    "loss = criterion(output,target)\n",
    "loss.backward()\n",
    "optimizer.step()"
   ]
  },
  {
   "cell_type": "markdown",
   "metadata": {},
   "source": [
    "## 训练一个分类器\n",
    "\n",
    "到这里，你以及学习了如何定义一个神经网络，计算损失函数，以及在网络上更新权重，那么接下来的问题就是：\n",
    "\n",
    "### 数据是什么样子的\n",
    "\n",
    "一般来说，当你处理图片，文本，音频或者视频数据的时候，你可以使用一些标准的Python模块来解析这些数据，将它们存入到numpy模块的Array类中。然后就可以将array转换成Tensor。\n",
    "\n",
    "* 对于图片，比较适合的包包括Pillow，OpenCV\n",
    "* 对应音频，scipy和librosa包比较适合\n",
    "* 对于文本，就使用原生的Python或者Cython，或者NLTK，SpaCy等等\n",
    "\n",
    "对于图片类型的数据，pytorch特别的为其开发了一个模块，称为torchvision。该模块可以提供一个标准数据集，比如Imagenet,CIFAR10,MINST等等，的数据读取接口，并对数据做一些转换。\n",
    "\n",
    "这提供了很大的便捷性，并且避免编写一些重复的模板代码。\n",
    "\n",
    "在本教程中，我们会用到CIFAR10数据集。它包含以下几个类别:“飞机”，“手机”，“鸟”，“汽车”，“鹿”，“狗”，“青蛙”，“船”，“马”，“卡车”。这些图片的大小都是$3 \\times 32 \\times 32$，也就是RGB三个通道，长宽各是32个像素点。\n",
    "\n",
    "![CIFA10](./jpgs/jupyter_2.png)\n",
    "\n",
    "### 训练一个图片分类器\n",
    "\n",
    "会按照如下步骤构建图片分类器：\n",
    "1. 用torchvision模块读取和规范CIFAR10训练集和测试集\n",
    "2. 定义一个卷积神经网络\n",
    "3. 定义一个损失函数\n",
    "4. 在训练数据上训练网络\n",
    "5. 在测试数据上测试网络\n",
    "\n",
    "#### 1. 读取和规范CIFAR10数据集"
   ]
  },
  {
   "cell_type": "code",
   "execution_count": 35,
   "metadata": {},
   "outputs": [
    {
     "name": "stdout",
     "output_type": "stream",
     "text": [
      "Downloading https://www.cs.toronto.edu/~kriz/cifar-10-python.tar.gz to ./1/data/cifar-10-python.tar.gz\n",
      "Files already downloaded and verified\n"
     ]
    }
   ],
   "source": [
    "import torch\n",
    "import torchvision\n",
    "import torchvision.transforms as transforms\n",
    "\n",
    "transform = transforms.Compose(\n",
    "        [transforms.ToTensor(),\n",
    "         transforms.Normalize((0.5,0.5,0.5),(0.5,0.5,0.5))\n",
    "        ]\n",
    "    )\n",
    "trainset = torchvision.datasets.CIFAR10(root='./1/data', train=True,\n",
    "                                        download=True, transform=transform)\n",
    "trainloader = torch.utils.data.DataLoader(trainset, batch_size=4,\n",
    "                                          shuffle=True, num_workers=2)\n",
    "testset = torchvision.datasets.CIFAR10(root='./1/data', train=False,\n",
    "                                       download=True, transform=transform)\n",
    "testloader = torch.utils.data.DataLoader(testset, batch_size=4,\n",
    "                                         shuffle=False, num_workers=2)\n",
    "\n",
    "classes = ('plane', 'car', 'bird', 'cat',\n",
    "           'deer', 'dog', 'frog', 'horse', 'ship', 'truck')"
   ]
  },
  {
   "cell_type": "markdown",
   "metadata": {},
   "source": [
    "#### 2. 定义一个卷积神经网络"
   ]
  },
  {
   "cell_type": "code",
   "execution_count": 36,
   "metadata": {
    "collapsed": true
   },
   "outputs": [],
   "source": [
    "import torch.nn as nn\n",
    "import torch.nn.functional as F\n",
    "\n",
    "\n",
    "class Net(nn.Module):\n",
    "    def __init__(self):\n",
    "        super(Net, self).__init__()\n",
    "        self.conv1 = nn.Conv2d(3, 6, 5)\n",
    "        self.pool = nn.MaxPool2d(2, 2)\n",
    "        self.conv2 = nn.Conv2d(6, 16, 5)\n",
    "        self.fc1 = nn.Linear(16 * 5 * 5, 120)\n",
    "        self.fc2 = nn.Linear(120, 84)\n",
    "        self.fc3 = nn.Linear(84, 10)\n",
    "\n",
    "    def forward(self, x):\n",
    "        x = self.pool(F.relu(self.conv1(x)))\n",
    "        x = self.pool(F.relu(self.conv2(x)))\n",
    "        x = x.view(-1, 16 * 5 * 5)\n",
    "        x = F.relu(self.fc1(x))\n",
    "        x = F.relu(self.fc2(x))\n",
    "        x = self.fc3(x)\n",
    "        return x\n",
    "\n",
    "\n",
    "net = Net()"
   ]
  },
  {
   "cell_type": "markdown",
   "metadata": {},
   "source": [
    "#### 3. 定义损失函数"
   ]
  },
  {
   "cell_type": "code",
   "execution_count": 37,
   "metadata": {
    "collapsed": true
   },
   "outputs": [],
   "source": [
    "import torch.optim as optim\n",
    "\n",
    "criterion = nn.CrossEntropyLoss()\n",
    "optimizer = optim.SGD(net.parameters(), lr=0.001, momentum=0.9)"
   ]
  },
  {
   "cell_type": "markdown",
   "metadata": {},
   "source": [
    "#### 4. 训练网络"
   ]
  },
  {
   "cell_type": "code",
   "execution_count": 39,
   "metadata": {},
   "outputs": [
    {
     "name": "stdout",
     "output_type": "stream",
     "text": [
      "[1,  2000] loss: 1.220\n",
      "[1,  4000] loss: 1.201\n",
      "[1,  6000] loss: 1.210\n",
      "[1,  8000] loss: 1.187\n",
      "[1, 10000] loss: 1.179\n",
      "[1, 12000] loss: 1.177\n",
      "[2,  2000] loss: 1.104\n",
      "[2,  4000] loss: 1.107\n",
      "[2,  6000] loss: 1.120\n",
      "[2,  8000] loss: 1.112\n",
      "[2, 10000] loss: 1.097\n",
      "[2, 12000] loss: 1.085\n",
      "Finished Training\n"
     ]
    }
   ],
   "source": [
    "for epoch in range(2):  # loop over the dataset multiple times\n",
    "\n",
    "    running_loss = 0.0\n",
    "    for i, data in enumerate(trainloader, 0):\n",
    "        # get the inputs\n",
    "        inputs, labels = data\n",
    "\n",
    "        # zero the parameter gradients\n",
    "        optimizer.zero_grad()\n",
    "\n",
    "        # forward + backward + optimize\n",
    "        outputs = net(inputs)\n",
    "        loss = criterion(outputs, labels)\n",
    "        loss.backward()\n",
    "        optimizer.step()\n",
    "\n",
    "        # print statistics\n",
    "        running_loss += loss.item()\n",
    "        if i % 2000 == 1999:    # print every 2000 mini-batches\n",
    "            print('[%d, %5d] loss: %.3f' %\n",
    "                  (epoch + 1, i + 1, running_loss / 2000))\n",
    "            running_loss = 0.0\n",
    "\n",
    "print('Finished Training')"
   ]
  },
  {
   "cell_type": "markdown",
   "metadata": {},
   "source": [
    "#### 5. 在测试数据集上测试模型"
   ]
  },
  {
   "cell_type": "code",
   "execution_count": 60,
   "metadata": {},
   "outputs": [
    {
     "name": "stdout",
     "output_type": "stream",
     "text": [
      "Predicted:    cat   car   car  ship\n"
     ]
    }
   ],
   "source": [
    "outputs = net(images)\n",
    "_, predicted = torch.max(outputs, 1)\n",
    "\n",
    "print('Predicted: ', ' '.join('%5s' % classes[predicted[j]]\n",
    "                              for j in range(4)))"
   ]
  },
  {
   "cell_type": "code",
   "execution_count": 61,
   "metadata": {},
   "outputs": [
    {
     "name": "stdout",
     "output_type": "stream",
     "text": [
      "Accuracy of the network on the 10000 test images: 57 %\n"
     ]
    }
   ],
   "source": [
    "correct = 0\n",
    "total = 0\n",
    "with torch.no_grad():\n",
    "    for data in testloader:\n",
    "        images, labels = data\n",
    "        outputs = net(images)\n",
    "        _, predicted = torch.max(outputs.data, 1)\n",
    "        total += labels.size(0)\n",
    "        correct += (predicted == labels).sum().item()\n",
    "\n",
    "print('Accuracy of the network on the 10000 test images: %d %%' % (\n",
    "    100 * correct / total))"
   ]
  },
  {
   "cell_type": "code",
   "execution_count": 62,
   "metadata": {},
   "outputs": [
    {
     "name": "stdout",
     "output_type": "stream",
     "text": [
      "Accuracy of plane : 54 %\n",
      "Accuracy of   car : 79 %\n",
      "Accuracy of  bird : 58 %\n",
      "Accuracy of   cat : 51 %\n",
      "Accuracy of  deer : 47 %\n",
      "Accuracy of   dog : 32 %\n",
      "Accuracy of  frog : 77 %\n",
      "Accuracy of horse : 49 %\n",
      "Accuracy of  ship : 76 %\n",
      "Accuracy of truck : 51 %\n"
     ]
    }
   ],
   "source": [
    "class_correct = list(0. for i in range(10))\n",
    "class_total = list(0. for i in range(10))\n",
    "with torch.no_grad():\n",
    "    for data in testloader:\n",
    "        images, labels = data\n",
    "        outputs = net(images)\n",
    "        _, predicted = torch.max(outputs, 1)\n",
    "        c = (predicted == labels).squeeze()\n",
    "        for i in range(4):\n",
    "            label = labels[i]\n",
    "            class_correct[label] += c[i].item()\n",
    "            class_total[label] += 1\n",
    "\n",
    "\n",
    "for i in range(10):\n",
    "    print('Accuracy of %5s : %2d %%' % (\n",
    "        classes[i], 100 * class_correct[i] / class_total[i]))"
   ]
  },
  {
   "cell_type": "markdown",
   "metadata": {},
   "source": [
    "### 在GPU上进行学习\n",
    "\n",
    "正如可以将Tensor转移到GPU上，也可以将神经网络转移到GPU上。定义第一个显示CUDA设备为CUDA设备："
   ]
  },
  {
   "cell_type": "code",
   "execution_count": 64,
   "metadata": {},
   "outputs": [
    {
     "name": "stdout",
     "output_type": "stream",
     "text": [
      "cuda:0\n"
     ]
    }
   ],
   "source": [
    "device = torch.device('cuda:0' if torch.cuda.is_available() else \"cpu\")\n",
    "print(device)"
   ]
  },
  {
   "cell_type": "markdown",
   "metadata": {},
   "source": [
    "后续部分都是假设设备是CUDA设备。这些方法可以递归应用于所有模型上，并将所有的参数和流转换成CUDA Tensor。"
   ]
  },
  {
   "cell_type": "code",
   "execution_count": 66,
   "metadata": {},
   "outputs": [],
   "source": [
    "net = net.to(device)"
   ]
  },
  {
   "cell_type": "markdown",
   "metadata": {},
   "source": [
    "需要记住吧所有的数据也都转移到GPU上："
   ]
  },
  {
   "cell_type": "code",
   "execution_count": 67,
   "metadata": {
    "collapsed": true
   },
   "outputs": [],
   "source": [
    "inputs,labels = inputs.to(device), labels.to(device)"
   ]
  },
  {
   "cell_type": "markdown",
   "metadata": {},
   "source": [
    "当然这在较小规模的网络上效率提升不明显\n",
    "\n",
    "### 多GUP上进行训练\n",
    "\n",
    "如果你想利用多个GPU更快的运行程序，那么就可以参考[Optional:Data Parallelism](https://pytorch.org/tutorials/beginner/blitz/data_parallel_tutorial.html)\n",
    "\n",
    "在本教程中，将会学习如何使用DataParallel模块进行多GPU训练。\n",
    "\n",
    "在Pytorch中使用GPU是很简单的，你可以通过下列语句将模型注册到GPU上："
   ]
  },
  {
   "cell_type": "code",
   "execution_count": 70,
   "metadata": {},
   "outputs": [],
   "source": [
    "device = torch.device('cuda:0')\n",
    "model = net.to(device)"
   ]
  },
  {
   "cell_type": "markdown",
   "metadata": {},
   "source": [
    "要注意的是，net.to(device)方法只是返回了一个在GPU上的数据模型，所以需要赋值给另一个变量以方便后续调用。\n",
    "\n",
    "同时在多个GPU上执行程序也是很简单的，但是，PyTorch默认只使用一个GPU。可以使用DataParallel方法来使模型运行在多个GPU上。"
   ]
  },
  {
   "cell_type": "code",
   "execution_count": 72,
   "metadata": {},
   "outputs": [
    {
     "data": {
      "text/plain": [
       "DataParallel(\n",
       "  (module): Net(\n",
       "    (conv1): Conv2d(3, 6, kernel_size=(5, 5), stride=(1, 1))\n",
       "    (pool): MaxPool2d(kernel_size=2, stride=2, padding=0, dilation=1, ceil_mode=False)\n",
       "    (conv2): Conv2d(6, 16, kernel_size=(5, 5), stride=(1, 1))\n",
       "    (fc1): Linear(in_features=400, out_features=120, bias=True)\n",
       "    (fc2): Linear(in_features=120, out_features=84, bias=True)\n",
       "    (fc3): Linear(in_features=84, out_features=10, bias=True)\n",
       "  )\n",
       ")"
      ]
     },
     "execution_count": 72,
     "metadata": {},
     "output_type": "execute_result"
    }
   ],
   "source": [
    "model = nn.DataParallel(net)\n",
    "model"
   ]
  },
  {
   "cell_type": "markdown",
   "metadata": {},
   "source": [
    "这一句代码是这一部分教程的核心，后续详细的讨论其中的细节。\n",
    "\n",
    "### 载入和参数\n",
    "\n",
    "加载PyTorch模型，定义参数："
   ]
  },
  {
   "cell_type": "code",
   "execution_count": 74,
   "metadata": {
    "collapsed": true
   },
   "outputs": [],
   "source": [
    "import torch\n",
    "import torch.nn as nn\n",
    "from torch.utils.data import Dataset,DataLoader\n",
    "\n",
    "input_size=5\n",
    "output_size = 2\n",
    "batch_size = 30\n",
    "data_size = 100\n",
    "\n",
    "device = torch.device('cuda:0' if torch.cuda.is_available() else 'cpu')"
   ]
  },
  {
   "cell_type": "markdown",
   "metadata": {},
   "source": [
    "### 潜变量\n",
    "\n",
    "构建一个潜变量，你只需要实现getitem"
   ]
  },
  {
   "cell_type": "code",
   "execution_count": 79,
   "metadata": {
    "collapsed": true
   },
   "outputs": [],
   "source": [
    "class RandomDataset(Dataset):\n",
    "    def __init__(self,size,length):\n",
    "        self.len = length\n",
    "        self.data = torch.randn(length,size)\n",
    "        \n",
    "    def __getitem__(self,index):\n",
    "        return self.data[index]\n",
    "    \n",
    "    def __len__(self):\n",
    "        return self.len\n",
    "    \n",
    "rand_loader = DataLoader(dataset=RandomDataset(input_size,data_size),batch_size=batch_size,shuffle=True)"
   ]
  },
  {
   "cell_type": "markdown",
   "metadata": {},
   "source": [
    "### 简化模型\n",
    "\n",
    "作为演示，该模型只是接受一个输入，进行一个线性变换，然后输出，但是你可以使用DataParallel方法运用在任何模型上（CNN,RNN,Capsule Net等）。我们在模型中放入一个打印语句来监视输入和输出Tensor的形状。"
   ]
  },
  {
   "cell_type": "code",
   "execution_count": 76,
   "metadata": {
    "collapsed": true
   },
   "outputs": [],
   "source": [
    "class Model(nn.Module):\n",
    "    # Our model\n",
    "\n",
    "    def __init__(self, input_size, output_size):\n",
    "        super(Model, self).__init__()\n",
    "        self.fc = nn.Linear(input_size, output_size)\n",
    "\n",
    "    def forward(self, input):\n",
    "        output = self.fc(input)\n",
    "        print(\"\\tIn Model: input size\", input.size(),\n",
    "              \"output size\", output.size())\n",
    "\n",
    "        return output"
   ]
  },
  {
   "cell_type": "markdown",
   "metadata": {},
   "source": [
    "### 创建模型并并行化\n",
    "这一部分是该部分教程的核心。首先，需要实例化一个模型对象，并检查是否有多个GPU。如果有多个GPU，那么你可以使用nn.DataParallel方法来封装模型对象。之后可以通过model.to(device)将模型移动到GPU上面。"
   ]
  },
  {
   "cell_type": "code",
   "execution_count": 77,
   "metadata": {},
   "outputs": [
    {
     "data": {
      "text/plain": [
       "Model(\n",
       "  (fc): Linear(in_features=5, out_features=2, bias=True)\n",
       ")"
      ]
     },
     "execution_count": 77,
     "metadata": {},
     "output_type": "execute_result"
    }
   ],
   "source": [
    "model = Model(input_size, output_size)\n",
    "if torch.cuda.device_count() > 1:\n",
    "  print(\"Let's use\", torch.cuda.device_count(), \"GPUs!\")\n",
    "  # dim = 0 [30, xxx] -> [10, ...], [10, ...], [10, ...] on 3 GPUs\n",
    "  model = nn.DataParallel(model)\n",
    "\n",
    "model.to(device)"
   ]
  },
  {
   "cell_type": "markdown",
   "metadata": {},
   "source": [
    "### 运行模型\n",
    "\n",
    "观察模型运行过程中的输入和输出Tensor"
   ]
  },
  {
   "cell_type": "code",
   "execution_count": 80,
   "metadata": {},
   "outputs": [
    {
     "name": "stdout",
     "output_type": "stream",
     "text": [
      "\tIn Model: input size torch.Size([30, 5]) output size torch.Size([30, 2])\n",
      "Outside: input size torch.Size([30, 5]) output_size torch.Size([30, 2])\n",
      "\tIn Model: input size torch.Size([30, 5]) output size torch.Size([30, 2])\n",
      "Outside: input size torch.Size([30, 5]) output_size torch.Size([30, 2])\n",
      "\tIn Model: input size torch.Size([30, 5]) output size torch.Size([30, 2])\n",
      "Outside: input size torch.Size([30, 5]) output_size torch.Size([30, 2])\n",
      "\tIn Model: input size torch.Size([10, 5]) output size torch.Size([10, 2])\n",
      "Outside: input size torch.Size([10, 5]) output_size torch.Size([10, 2])\n"
     ]
    }
   ],
   "source": [
    "for data in rand_loader:\n",
    "    input = data.to(device)\n",
    "    output = model(input)\n",
    "    print(\"Outside: input size\", input.size(),\n",
    "          \"output_size\", output.size())"
   ]
  },
  {
   "cell_type": "markdown",
   "metadata": {},
   "source": [
    "如果模型运行在2个GPU的机器上，那么结果如下：\n",
    "![2个GPU的计算机运行结果](./jpgs/jupyter_3.png)"
   ]
  }
 ],
 "metadata": {
  "kernelspec": {
   "display_name": "Python 3",
   "language": "python",
   "name": "python3"
  },
  "language_info": {
   "codemirror_mode": {
    "name": "ipython",
    "version": 3
   },
   "file_extension": ".py",
   "mimetype": "text/x-python",
   "name": "python",
   "nbconvert_exporter": "python",
   "pygments_lexer": "ipython3",
   "version": "3.6.2"
  }
 },
 "nbformat": 4,
 "nbformat_minor": 2
}
